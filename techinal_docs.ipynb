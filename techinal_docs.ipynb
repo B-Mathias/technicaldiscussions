{
  "nbformat": 4,
  "nbformat_minor": 0,
  "metadata": {
    "colab": {
      "provenance": [],
      "toc_visible": true,
      "authorship_tag": "ABX9TyNSzao7AFBL5ABBuoEqYyVH",
      "include_colab_link": true
    },
    "kernelspec": {
      "name": "python3",
      "display_name": "Python 3"
    },
    "language_info": {
      "name": "python"
    }
  },
  "cells": [
    {
      "cell_type": "markdown",
      "metadata": {
        "id": "view-in-github",
        "colab_type": "text"
      },
      "source": [
        "<a href=\"https://colab.research.google.com/github/B-Mathias/technicaldiscussions/blob/main/techinal_docs.ipynb\" target=\"_parent\"><img src=\"https://colab.research.google.com/assets/colab-badge.svg\" alt=\"Open In Colab\"/></a>"
      ]
    },
    {
      "cell_type": "markdown",
      "source": [
        "## Ingest"
      ],
      "metadata": {
        "id": "kKIOXCoc9IWX"
      }
    },
    {
      "cell_type": "code",
      "execution_count": 2,
      "metadata": {
        "colab": {
          "base_uri": "https://localhost:8080/",
          "height": 36
        },
        "id": "y-KJUvcG8IHo",
        "outputId": "cd906bca-034d-4e10-9a01-63ed635bee0a"
      },
      "outputs": [
        {
          "output_type": "execute_result",
          "data": {
            "text/plain": [
              "'Hello World!'"
            ],
            "application/vnd.google.colaboratory.intrinsic+json": {
              "type": "string"
            }
          },
          "metadata": {},
          "execution_count": 2
        }
      ],
      "source": [
        "def hello():\n",
        "  return \"Hello World!\"\n",
        "hello()"
      ]
    },
    {
      "cell_type": "markdown",
      "source": [
        "## EDA\n",
        "\n",
        "* EDA1\n"
      ],
      "metadata": {
        "id": "iByJUEYL98OV"
      }
    },
    {
      "cell_type": "markdown",
      "source": [
        "\n",
        "### This is a markdown heading\n",
        "\n",
        "Going to list som items\n",
        "\n",
        "* Item1\n",
        "* Item2"
      ],
      "metadata": {
        "id": "HMwC-U6f-wGB"
      }
    },
    {
      "cell_type": "markdown",
      "source": [
        "## Modelling\n"
      ],
      "metadata": {
        "id": "rU3XRkiu-RoW"
      }
    },
    {
      "cell_type": "markdown",
      "source": [
        "### A small markdown heading"
      ],
      "metadata": {
        "id": "cBIP1_qq-zre"
      }
    },
    {
      "cell_type": "markdown",
      "source": [
        "## Conclusion"
      ],
      "metadata": {
        "id": "IbZsN7h5-V3J"
      }
    },
    {
      "cell_type": "markdown",
      "source": [
        "My simple conclusion"
      ],
      "metadata": {
        "id": "Fw4Mh2u5--iu"
      }
    }
  ]
}